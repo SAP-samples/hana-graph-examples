{
 "cells": [
  {
   "cell_type": "code",
   "execution_count": 1,
   "metadata": {},
   "outputs": [],
   "source": [
    "import sys\n",
    "import os\n",
    "import json\n",
    "\n",
    "from hana_ml.dataframe import ConnectionContext"
   ]
  },
  {
   "cell_type": "code",
   "execution_count": 3,
   "metadata": {},
   "outputs": [
    {
     "name": "stdout",
     "output_type": "stream",
     "text": [
      "4.00.000.00.1624913057 (fa/CE2021.18)\n",
      "GRAPH_USER\n"
     ]
    }
   ],
   "source": [
    "with open(os.path.join(os.getcwd(), './env_cloud.json')) as f:\n",
    "    hana_env_c = json.load(f)\n",
    "    port_c  = hana_env_c['port']\n",
    "    user_c  = hana_env_c['user']\n",
    "    url_c  = hana_env_c['url']\n",
    "    pwd_c  = hana_env_c['pwd']\n",
    "\n",
    "cc = ConnectionContext(url_c, port_c, user_c, pwd_c)\n",
    "print(cc.hana_version())\n",
    "print(cc.get_current_schema())"
   ]
  },
  {
   "cell_type": "markdown",
   "metadata": {},
   "source": [
    "## Create Graph from Vertices and Edges"
   ]
  },
  {
   "cell_type": "code",
   "execution_count": 4,
   "metadata": {},
   "outputs": [
    {
     "name": "stderr",
     "output_type": "stream",
     "text": [
      "100%|██████████| 2/2 [00:05<00:00,  2.64s/it]\n",
      "100%|██████████| 1/1 [00:07<00:00,  7.81s/it]\n"
     ]
    }
   ],
   "source": [
    "from hana_ml.dataframe import create_dataframe_from_pandas\n",
    "import pandas as pd\n",
    "\n",
    "# example SHAPE column: POINT (1752440.6821975708 5439964.327102661)\n",
    "v_hdf = create_dataframe_from_pandas(\n",
    "    connection_context=cc,\n",
    "    pandas_df=pd.read_csv(\"./datasets/wwc_stormwater_vertices.csv\"),\n",
    "    table_name=\"LM_STROM_WATER_VERTICES\",\n",
    "    primary_key=\"ID\",\n",
    "    geo_cols=[\"SHAPE\"],\n",
    "    srid=2193,\n",
    "    force=True)\n",
    "\n",
    "# example SHAPE column: LINESTRING (1749169.286201477 5422260.568099976, 1749162.987197876 5422242.643096924)\n",
    "e_hdf = create_dataframe_from_pandas(\n",
    "    connection_context=cc,\n",
    "    pandas_df=pd.read_csv(\"./datasets/wwc_stormwater_edges.csv\"),\n",
    "    table_name=\"LM_STORM_WATER_EDGES\",\n",
    "    primary_key=\"ID\",\n",
    "    not_nulls=[\"SOURCE\", \"TARGET\"],\n",
    "    geo_cols=[\"SHAPE\"],\n",
    "    srid=2193,\n",
    "    force=True)"
   ]
  },
  {
   "cell_type": "code",
   "execution_count": 5,
   "metadata": {},
   "outputs": [],
   "source": [
    "import hana_ml.graph as hg\n",
    "\n",
    "g_storm = hg.create_graph_from_dataframes(\n",
    "    connection_context=cc,\n",
    "    vertices_df=v_hdf,\n",
    "    vertex_key_column=\"ID\",\n",
    "    edges_df=e_hdf,\n",
    "    edge_source_column=\"SOURCE\",\n",
    "    edge_target_column=\"TARGET\",\n",
    "    edge_key_column=\"ID\",\n",
    "    workspace_name=\"LM_STORM_WATER\",\n",
    "    )"
   ]
  },
  {
   "cell_type": "code",
   "execution_count": 8,
   "metadata": {},
   "outputs": [
    {
     "data": {
      "text/html": [
       "<div>\n",
       "<style scoped>\n",
       "    .dataframe tbody tr th:only-of-type {\n",
       "        vertical-align: middle;\n",
       "    }\n",
       "\n",
       "    .dataframe tbody tr th {\n",
       "        vertical-align: top;\n",
       "    }\n",
       "\n",
       "    .dataframe thead th {\n",
       "        text-align: right;\n",
       "    }\n",
       "</style>\n",
       "<table border=\"1\" class=\"dataframe\">\n",
       "  <thead>\n",
       "    <tr style=\"text-align: right;\">\n",
       "      <th></th>\n",
       "      <th>SCHEMA_NAME</th>\n",
       "      <th>WORKSPACE_NAME</th>\n",
       "      <th>IS_VALID</th>\n",
       "      <th>EDGE_SCHEMA_NAME</th>\n",
       "      <th>EDGE_TABLE_NAME</th>\n",
       "      <th>EDGE_KEY_COLUMN_NAME</th>\n",
       "      <th>EDGE_TARGET_COLUMN</th>\n",
       "      <th>EDGE_SOURCE_COLUMN_NAME</th>\n",
       "      <th>VERTEX_SCHEMA_NAME</th>\n",
       "      <th>VERTEX_TABLE_NAME</th>\n",
       "      <th>VERTEX_KEY_COLUMN_NAME</th>\n",
       "    </tr>\n",
       "  </thead>\n",
       "  <tbody>\n",
       "    <tr>\n",
       "      <th>12</th>\n",
       "      <td>GRAPH_USER</td>\n",
       "      <td>LM_STORM_WATER</td>\n",
       "      <td>NaN</td>\n",
       "      <td>GRAPH_USER</td>\n",
       "      <td>LM_STORM_WATER_EDGES</td>\n",
       "      <td>ID</td>\n",
       "      <td>TARGET</td>\n",
       "      <td>SOURCE</td>\n",
       "      <td>GRAPH_USER</td>\n",
       "      <td>LM_STROM_WATER_VERTICES</td>\n",
       "      <td>ID</td>\n",
       "    </tr>\n",
       "  </tbody>\n",
       "</table>\n",
       "</div>"
      ],
      "text/plain": [
       "   SCHEMA_NAME  WORKSPACE_NAME IS_VALID EDGE_SCHEMA_NAME  \\\n",
       "12  GRAPH_USER  LM_STORM_WATER      NaN       GRAPH_USER   \n",
       "\n",
       "         EDGE_TABLE_NAME EDGE_KEY_COLUMN_NAME EDGE_TARGET_COLUMN  \\\n",
       "12  LM_STORM_WATER_EDGES                   ID             TARGET   \n",
       "\n",
       "   EDGE_SOURCE_COLUMN_NAME VERTEX_SCHEMA_NAME        VERTEX_TABLE_NAME  \\\n",
       "12                  SOURCE         GRAPH_USER  LM_STROM_WATER_VERTICES   \n",
       "\n",
       "   VERTEX_KEY_COLUMN_NAME  \n",
       "12                     ID  "
      ]
     },
     "execution_count": 8,
     "metadata": {},
     "output_type": "execute_result"
    }
   ],
   "source": [
    "# Let's check\n",
    "hgw = hg.discover_graph_workspaces(cc)\n",
    "hgw[hgw.WORKSPACE_NAME == 'LM_STORM_WATER']"
   ]
  },
  {
   "cell_type": "code",
   "execution_count": 9,
   "metadata": {},
   "outputs": [],
   "source": [
    "# Instantiate existing graph\n",
    "# here only for demo purposes, since we already instantiated it during creation\n",
    "g_storm = hg.Graph(\n",
    "    connection_context=cc,\n",
    "    workspace_name='LM_STORM_WATER',\n",
    "    schema=\"GRAPH_USER\"  # Optional, only needed if the schema differs from your logon schema\n",
    ")"
   ]
  },
  {
   "cell_type": "code",
   "execution_count": 10,
   "metadata": {},
   "outputs": [
    {
     "name": "stdout",
     "output_type": "stream",
     "text": [
      "\n",
      "Workspace schema: GRAPH_USER \n",
      "Workspace name: LM_STORM_WATER\n",
      "\n",
      "Vertex table schema: GRAPH_USER\n",
      "Vertex table name: LM_STROM_WATER_VERTICES\n",
      "Vertex table key column: ID\n",
      "Vertex table key column dtype: NVARCHAR(5000)\n",
      "Vertex table SQL statement: SELECT * FROM \"GRAPH_USER\".\"LM_STROM_WATER_VERTICES\"\n",
      "\n",
      "Edge table schema: GRAPH_USER\n",
      "Edge table name: LM_STORM_WATER_EDGES\n",
      "Edge table key column: ID\n",
      "Edge table key column dtype: INT\n",
      "Edge table source columns: SOURCE\n",
      "Edge table target column: TARGET\n",
      "Edge table SQL statement: SELECT * FROM \"GRAPH_USER\".\"LM_STORM_WATER_EDGES\"\n",
      "\n"
     ]
    }
   ],
   "source": [
    "print(g_storm)"
   ]
  },
  {
   "cell_type": "markdown",
   "metadata": {},
   "source": [
    "## Let's plot the whole graph on a map"
   ]
  },
  {
   "cell_type": "code",
   "execution_count": 11,
   "metadata": {},
   "outputs": [
    {
     "name": "stdout",
     "output_type": "stream",
     "text": [
      "User Guide: https://docs.kepler.gl/docs/keplergl-jupyter\n"
     ]
    },
    {
     "data": {
      "application/vnd.jupyter.widget-view+json": {
       "model_id": "82ecf878649145e28527b5ca03b9b024",
       "version_major": 2,
       "version_minor": 0
      },
      "text/plain": [
       "KeplerGl(data={'Stormwater': {'index': [0, 1, 2, 3, 4, 5, 6, 7, 8, 9, 10, 11, 12, 13, 14, 15, 16, 17, 18, 19, …"
      ]
     },
     "metadata": {},
     "output_type": "display_data"
    }
   ],
   "source": [
    "from keplergl import KeplerGl\n",
    "\n",
    "pdf_storm_edges = g_storm.edges_hdf.select('ID', ('SHAPE_GEO.ST_TRANSFORM(4326).ST_ASGEOJSON()', 'GJ')).collect()\n",
    "\n",
    "map = KeplerGl(height=600, width=800)\n",
    "map.add_data(pdf_storm_edges, 'Stormwater')\n",
    "map"
   ]
  },
  {
   "cell_type": "markdown",
   "metadata": {},
   "source": [
    "## Inspect some basic graph stats"
   ]
  },
  {
   "cell_type": "code",
   "execution_count": 12,
   "metadata": {},
   "outputs": [
    {
     "data": {
      "text/plain": [
       "COUNT(VERTICES)         50638\n",
       "COUNT(EDGES)            43003\n",
       "COUNT(SELF_LOOPS)           3\n",
       "MIN(OUT_DEG)                0\n",
       "MIN(IN_DEG)                 0\n",
       "MIN(DEG)                    1\n",
       "MAX(OUT_DEG)                6\n",
       "MAX(IN_DEG)                 8\n",
       "MAX(DEG)                    9\n",
       "AVG(OUT_DEG)         0.955155\n",
       "AVG(IN_DEG)          0.955155\n",
       "AVG(DEG)              1.91031\n",
       "DENSITY              0.000016\n",
       "COUNT(TRIANGLES)           98\n",
       "IS_CONNECTED            False\n",
       "dtype: object"
      ]
     },
     "execution_count": 12,
     "metadata": {},
     "output_type": "execute_result"
    }
   ],
   "source": [
    "g_storm.describe()"
   ]
  },
  {
   "cell_type": "markdown",
   "metadata": {},
   "source": [
    "### The Graph is not connected. Let's get the weakly connected components.\n",
    "`WeaklyConnectedComponents` is one of the available `Graph` algorithms.\n",
    "\n",
    "The usage pattern always is:\n",
    "```Python\n",
    "result = hana_ml.graph.algorithms.<algorithm_name>(graph=<graph_instance>).execute(<parameters>)\n",
    "```\n",
    "This returns an instance of the algorithm class, that contains the results as properties (e.g. `result.vertices`). Note: Tabular data are always returned as Pandas `DataFrame`s"
   ]
  },
  {
   "cell_type": "code",
   "execution_count": 13,
   "metadata": {},
   "outputs": [
    {
     "name": "stdout",
     "output_type": "stream",
     "text": [
      "There are 8332 components in the Graph.\n"
     ]
    }
   ],
   "source": [
    "import hana_ml.graph.algorithms as hga\n",
    "\n",
    "wcc = hga.WeaklyConnectedComponents(graph=g_storm).execute()\n",
    "\n",
    "print(f'There are {wcc.components_count} components in the Graph.')"
   ]
  },
  {
   "cell_type": "code",
   "execution_count": 14,
   "metadata": {},
   "outputs": [
    {
     "data": {
      "text/html": [
       "<div>\n",
       "<style scoped>\n",
       "    .dataframe tbody tr th:only-of-type {\n",
       "        vertical-align: middle;\n",
       "    }\n",
       "\n",
       "    .dataframe tbody tr th {\n",
       "        vertical-align: top;\n",
       "    }\n",
       "\n",
       "    .dataframe thead th {\n",
       "        text-align: right;\n",
       "    }\n",
       "</style>\n",
       "<table border=\"1\" class=\"dataframe\">\n",
       "  <thead>\n",
       "    <tr style=\"text-align: right;\">\n",
       "      <th></th>\n",
       "      <th>COMPONENT</th>\n",
       "      <th>NUMBER_OF_VERTICES</th>\n",
       "    </tr>\n",
       "  </thead>\n",
       "  <tbody>\n",
       "    <tr>\n",
       "      <th>24</th>\n",
       "      <td>25</td>\n",
       "      <td>3139</td>\n",
       "    </tr>\n",
       "    <tr>\n",
       "      <th>4</th>\n",
       "      <td>5</td>\n",
       "      <td>2162</td>\n",
       "    </tr>\n",
       "  </tbody>\n",
       "</table>\n",
       "</div>"
      ],
      "text/plain": [
       "    COMPONENT  NUMBER_OF_VERTICES\n",
       "24         25                3139\n",
       "4           5                2162"
      ]
     },
     "execution_count": 14,
     "metadata": {},
     "output_type": "execute_result"
    }
   ],
   "source": [
    "# Which are the largest components (i.e. sub networks)?\n",
    "wcc.components.sort_values(by='NUMBER_OF_VERTICES', ascending=False).head(2)"
   ]
  },
  {
   "cell_type": "code",
   "execution_count": 15,
   "metadata": {},
   "outputs": [
    {
     "data": {
      "text/html": [
       "<div>\n",
       "<style scoped>\n",
       "    .dataframe tbody tr th:only-of-type {\n",
       "        vertical-align: middle;\n",
       "    }\n",
       "\n",
       "    .dataframe tbody tr th {\n",
       "        vertical-align: top;\n",
       "    }\n",
       "\n",
       "    .dataframe thead th {\n",
       "        text-align: right;\n",
       "    }\n",
       "</style>\n",
       "<table border=\"1\" class=\"dataframe\">\n",
       "  <thead>\n",
       "    <tr style=\"text-align: right;\">\n",
       "      <th></th>\n",
       "      <th>ID</th>\n",
       "      <th>COMPONENT</th>\n",
       "    </tr>\n",
       "  </thead>\n",
       "  <tbody>\n",
       "    <tr>\n",
       "      <th>0</th>\n",
       "      <td>WCC_SW000008</td>\n",
       "      <td>1</td>\n",
       "    </tr>\n",
       "    <tr>\n",
       "      <th>1</th>\n",
       "      <td>WCC_SW000014</td>\n",
       "      <td>2</td>\n",
       "    </tr>\n",
       "    <tr>\n",
       "      <th>2</th>\n",
       "      <td>WCC_SW000021</td>\n",
       "      <td>3</td>\n",
       "    </tr>\n",
       "    <tr>\n",
       "      <th>3</th>\n",
       "      <td>WCC_SW000022</td>\n",
       "      <td>4</td>\n",
       "    </tr>\n",
       "    <tr>\n",
       "      <th>4</th>\n",
       "      <td>WCC_SW000023</td>\n",
       "      <td>5</td>\n",
       "    </tr>\n",
       "    <tr>\n",
       "      <th>5</th>\n",
       "      <td>WCC_SW000032</td>\n",
       "      <td>6</td>\n",
       "    </tr>\n",
       "    <tr>\n",
       "      <th>6</th>\n",
       "      <td>WCC_SW000056</td>\n",
       "      <td>7</td>\n",
       "    </tr>\n",
       "    <tr>\n",
       "      <th>7</th>\n",
       "      <td>WCC_SW000071</td>\n",
       "      <td>8</td>\n",
       "    </tr>\n",
       "    <tr>\n",
       "      <th>8</th>\n",
       "      <td>WCC_SW000085</td>\n",
       "      <td>9</td>\n",
       "    </tr>\n",
       "    <tr>\n",
       "      <th>9</th>\n",
       "      <td>WCC_SW000105</td>\n",
       "      <td>10</td>\n",
       "    </tr>\n",
       "  </tbody>\n",
       "</table>\n",
       "</div>"
      ],
      "text/plain": [
       "             ID  COMPONENT\n",
       "0  WCC_SW000008          1\n",
       "1  WCC_SW000014          2\n",
       "2  WCC_SW000021          3\n",
       "3  WCC_SW000022          4\n",
       "4  WCC_SW000023          5\n",
       "5  WCC_SW000032          6\n",
       "6  WCC_SW000056          7\n",
       "7  WCC_SW000071          8\n",
       "8  WCC_SW000085          9\n",
       "9  WCC_SW000105         10"
      ]
     },
     "execution_count": 15,
     "metadata": {},
     "output_type": "execute_result"
    }
   ],
   "source": [
    "wcc.vertices.head(10)"
   ]
  },
  {
   "cell_type": "markdown",
   "metadata": {},
   "source": [
    "### Store the component number for each vertex in a HANA Table so we can use it as a filter.\n",
    "Due to a limitation in GraphQL, `WeaklyConnectedComponents.vertices` can only return the IDs.\n",
    "If we want to havve the full records, we need to load the information separately.\n",
    "\n",
    "Options:\n",
    "- Create Filter List on the client\n",
    "- Store results to HANA Tale and filter via an select statement"
   ]
  },
  {
   "cell_type": "code",
   "execution_count": 16,
   "metadata": {},
   "outputs": [
    {
     "name": "stderr",
     "output_type": "stream",
     "text": [
      "100%|██████████| 2/2 [00:01<00:00,  1.46it/s]\n"
     ]
    }
   ],
   "source": [
    "hdf_wcc = create_dataframe_from_pandas(\n",
    "    connection_context=cc,\n",
    "    pandas_df=wcc.vertices,\n",
    "    drop_exist_tab=True,\n",
    "    table_name='LM_STORMWATER_WCC',\n",
    "    force=True,\n",
    "    allow_bigint=True,\n",
    "    primary_key='ID')"
   ]
  },
  {
   "cell_type": "code",
   "execution_count": 17,
   "metadata": {},
   "outputs": [],
   "source": [
    "g_storm_comp1 = g_storm.subgraph(\n",
    "    workspace_name = \"LM_STORMWATER_COMP1\", \n",
    "    vertices_filter='ID IN (SELECT ID FROM LM_STORMWATER_WCC WHERE COMPONENT = 25)',\n",
    "    force = True\n",
    ")"
   ]
  },
  {
   "cell_type": "code",
   "execution_count": 18,
   "metadata": {},
   "outputs": [],
   "source": [
    "g_storm_comp2 = g_storm.subgraph(\n",
    "    workspace_name = \"LM_STORMWATER_COMP2\", \n",
    "    vertices_filter='ID IN (SELECT ID FROM LM_STORMWATER_WCC WHERE COMPONENT = 5)',\n",
    "    force = True\n",
    ")"
   ]
  },
  {
   "cell_type": "markdown",
   "metadata": {},
   "source": [
    "## Let's plot the two weakly connected components on a map"
   ]
  },
  {
   "cell_type": "code",
   "execution_count": 19,
   "metadata": {},
   "outputs": [
    {
     "name": "stdout",
     "output_type": "stream",
     "text": [
      "User Guide: https://docs.kepler.gl/docs/keplergl-jupyter\n"
     ]
    },
    {
     "data": {
      "application/vnd.jupyter.widget-view+json": {
       "model_id": "e9c823e1c8a84a1da2a1aaa7bb9f844e",
       "version_major": 2,
       "version_minor": 0
      },
      "text/plain": [
       "KeplerGl(data={'Stormwater Component 1': {'index': [0, 1, 2, 3, 4, 5, 6, 7, 8, 9, 10, 11, 12, 13, 14, 15, 16, …"
      ]
     },
     "metadata": {},
     "output_type": "display_data"
    }
   ],
   "source": [
    "pdf_storm_comp1_edges = g_storm_comp1.edges_hdf \\\n",
    "    .select('ID', 'SOURCE', 'TARGET', ('SHAPE_GEO.ST_TRANSFORM(4326).ST_ASGEOJSON()', 'GJ')).collect()\n",
    "\n",
    "pdf_storm_comp2_edges = g_storm_comp2.edges_hdf \\\n",
    "    .select('ID', 'SOURCE', 'TARGET', ('SHAPE_GEO.ST_TRANSFORM(4326).ST_ASGEOJSON()', 'GJ')).collect()\n",
    "\n",
    "map = KeplerGl(height=600, width=800)\n",
    "map.add_data(pdf_storm_comp1_edges, 'Stormwater Component 1')\n",
    "map.add_data(pdf_storm_comp2_edges, 'Stormwater Component 2')\n",
    "map"
   ]
  },
  {
   "cell_type": "markdown",
   "metadata": {},
   "source": [
    "## Let's look Upstream and Downstream\n",
    "\n",
    "Let's assume somebody reported a problem with the node WCC_SW002719. We want to analyze that further.\n"
   ]
  },
  {
   "cell_type": "code",
   "execution_count": 20,
   "metadata": {},
   "outputs": [
    {
     "data": {
      "text/html": [
       "<div>\n",
       "<style scoped>\n",
       "    .dataframe tbody tr th:only-of-type {\n",
       "        vertical-align: middle;\n",
       "    }\n",
       "\n",
       "    .dataframe tbody tr th {\n",
       "        vertical-align: top;\n",
       "    }\n",
       "\n",
       "    .dataframe thead th {\n",
       "        text-align: right;\n",
       "    }\n",
       "</style>\n",
       "<table border=\"1\" class=\"dataframe\">\n",
       "  <thead>\n",
       "    <tr style=\"text-align: right;\">\n",
       "      <th></th>\n",
       "      <th>ID</th>\n",
       "      <th>GJ</th>\n",
       "    </tr>\n",
       "  </thead>\n",
       "  <tbody>\n",
       "    <tr>\n",
       "      <th>0</th>\n",
       "      <td>WCC_SW002719</td>\n",
       "      <td>{\"type\": \"Point\", \"coordinates\": [174.81985879...</td>\n",
       "    </tr>\n",
       "  </tbody>\n",
       "</table>\n",
       "</div>"
      ],
      "text/plain": [
       "             ID                                                 GJ\n",
       "0  WCC_SW002719  {\"type\": \"Point\", \"coordinates\": [174.81985879..."
      ]
     },
     "execution_count": 20,
     "metadata": {},
     "output_type": "execute_result"
    }
   ],
   "source": [
    "start_vertex_id = 'WCC_SW002719'\n",
    "\n",
    "# Get the details of that vertex\n",
    "start_vertex = g_storm_comp2.vertices_hdf \\\n",
    "    .filter(f\"ID = '{start_vertex_id}'\") \\\n",
    "    .select('ID', ('SHAPE_GEO.ST_TRANSFORM(4326).ST_ASGEOJSON()', 'GJ')).collect()\n",
    "\n",
    "start_vertex"
   ]
  },
  {
   "cell_type": "code",
   "execution_count": 21,
   "metadata": {},
   "outputs": [
    {
     "data": {
      "text/html": [
       "<div>\n",
       "<style scoped>\n",
       "    .dataframe tbody tr th:only-of-type {\n",
       "        vertical-align: middle;\n",
       "    }\n",
       "\n",
       "    .dataframe tbody tr th {\n",
       "        vertical-align: top;\n",
       "    }\n",
       "\n",
       "    .dataframe thead th {\n",
       "        text-align: right;\n",
       "    }\n",
       "</style>\n",
       "<table border=\"1\" class=\"dataframe\">\n",
       "  <thead>\n",
       "    <tr style=\"text-align: right;\">\n",
       "      <th></th>\n",
       "      <th>ID</th>\n",
       "    </tr>\n",
       "  </thead>\n",
       "  <tbody>\n",
       "    <tr>\n",
       "      <th>0</th>\n",
       "      <td>WCC_SW009330</td>\n",
       "    </tr>\n",
       "    <tr>\n",
       "      <th>1</th>\n",
       "      <td>WCC_SW002721</td>\n",
       "    </tr>\n",
       "    <tr>\n",
       "      <th>2</th>\n",
       "      <td>WCC_SW002716</td>\n",
       "    </tr>\n",
       "    <tr>\n",
       "      <th>3</th>\n",
       "      <td>WCC_SW002725</td>\n",
       "    </tr>\n",
       "    <tr>\n",
       "      <th>4</th>\n",
       "      <td>WCC_SW045665</td>\n",
       "    </tr>\n",
       "  </tbody>\n",
       "</table>\n",
       "</div>"
      ],
      "text/plain": [
       "             ID\n",
       "0  WCC_SW009330\n",
       "1  WCC_SW002721\n",
       "2  WCC_SW002716\n",
       "3  WCC_SW002725\n",
       "4  WCC_SW045665"
      ]
     },
     "execution_count": 21,
     "metadata": {},
     "output_type": "execute_result"
    }
   ],
   "source": [
    "neighbors = hga.Neighbors(graph=g_storm_comp2).execute(\n",
    "    start_vertex=start_vertex_id, \n",
    "    direction='ANY', \n",
    "    lower_bound=1, \n",
    "    upper_bound=5)\n",
    "\n",
    "neighbors.vertices.head(5)"
   ]
  },
  {
   "cell_type": "code",
   "execution_count": 22,
   "metadata": {},
   "outputs": [
    {
     "name": "stdout",
     "output_type": "stream",
     "text": [
      "ID IN ('WCC_SW009330','WCC_SW002721','WCC_SW002716','WCC_SW002725','WCC_SW045665','WCC_SW026945','WCC_SW009327','WCC_SW002697','WCC_SW000612','WCC_SW045666','WCC_SW026956','WCC_SW002720','WCC_SW009295','WCC_SW009328','WCC_SW000611','WCC_SW048148','WCC_SW026955','WCC_SW002723','WCC_SW030461','WCC_SW030458','WCC_SW030459','WCC_SW016959','WCC_SW016960','WCC_SW009329','WCC_SW045667','WCC_SW026966','WCC_SW002722')\n"
     ]
    }
   ],
   "source": [
    "vkc=g_storm_comp2.vertex_key_column\n",
    "in_list = neighbors.vertices.ID.str.cat(sep=\"','\")\n",
    "filter = f\"{vkc} IN ('{in_list}')\"  # Dynamically build the filter condition as SQL WHERE\n",
    "\n",
    "print(filter)\n",
    "\n",
    "pdf_storm_comp2_neighbors = g_storm_comp2.vertices_hdf \\\n",
    "    .filter(filter) \\\n",
    "    .select('ID', ('SHAPE_GEO.ST_TRANSFORM(4326).ST_ASGEOJSON()', 'GJ')).collect()"
   ]
  },
  {
   "cell_type": "code",
   "execution_count": 23,
   "metadata": {},
   "outputs": [
    {
     "name": "stdout",
     "output_type": "stream",
     "text": [
      "User Guide: https://docs.kepler.gl/docs/keplergl-jupyter\n"
     ]
    },
    {
     "data": {
      "application/vnd.jupyter.widget-view+json": {
       "model_id": "34ce011981ce4d66b376d8ccd255f4e0",
       "version_major": 2,
       "version_minor": 0
      },
      "text/plain": [
       "KeplerGl(data={'5-hop neighbors': {'index': [0, 1, 2, 3, 4, 5, 6, 7, 8, 9, 10, 11, 12, 13, 14, 15, 16, 17, 18,…"
      ]
     },
     "metadata": {},
     "output_type": "display_data"
    }
   ],
   "source": [
    "map = KeplerGl(height=600, width=800)\n",
    "map.add_data(pdf_storm_comp2_neighbors, '5-hop neighbors')\n",
    "map.add_data(start_vertex, 'Start Vertex')\n",
    "map"
   ]
  },
  {
   "cell_type": "markdown",
   "metadata": {},
   "source": [
    "## Upstream and Downstream with NeighborsSubgraphs"
   ]
  },
  {
   "cell_type": "code",
   "execution_count": 24,
   "metadata": {},
   "outputs": [],
   "source": [
    "g_neighbors_upstream = hga.NeighborsSubgraph(graph=g_storm_comp2).execute(\n",
    "    start_vertex=start_vertex_id, direction='INCOMING', \n",
    "    lower_bound=0, upper_bound=10000)"
   ]
  },
  {
   "cell_type": "code",
   "execution_count": 25,
   "metadata": {},
   "outputs": [],
   "source": [
    "g_neighbors_downstream = hga.NeighborsSubgraph(graph=g_storm_comp2).execute(\n",
    "    start_vertex=start_vertex_id, direction='OUTGOING', \n",
    "    lower_bound=0, upper_bound=10000)"
   ]
  },
  {
   "cell_type": "code",
   "execution_count": 26,
   "metadata": {},
   "outputs": [],
   "source": [
    "ekc = g_storm_comp2.edge_key_column\n",
    "\n",
    "in_list = g_neighbors_upstream.edges.ID.astype(str).str.cat(sep=',' )\n",
    "pdf_storm_comp2_neighbors_upstream_edges = g_storm_comp2.edges_hdf \\\n",
    "    .filter(f\"{ekc} IN ({in_list})\") \\\n",
    "    .select('ID', ('SHAPE_GEO.ST_TRANSFORM(4326).ST_ASGEOJSON()', 'GJ')).collect()\n",
    "\n",
    "in_list = g_neighbors_downstream.edges.ID.astype(str).str.cat(sep=',' )\n",
    "pdf_storm_comp2_neighbors_downstream_edges = g_storm_comp2.edges_hdf \\\n",
    "    .filter(f\"{ekc} IN ({in_list})\") \\\n",
    "    .select('ID', ('SHAPE_GEO.ST_TRANSFORM(4326).ST_ASGEOJSON()', 'GJ')).collect()"
   ]
  },
  {
   "cell_type": "code",
   "execution_count": 27,
   "metadata": {},
   "outputs": [
    {
     "name": "stdout",
     "output_type": "stream",
     "text": [
      "User Guide: https://docs.kepler.gl/docs/keplergl-jupyter\n"
     ]
    },
    {
     "data": {
      "application/vnd.jupyter.widget-view+json": {
       "model_id": "d21a8a49d8eb40a7b3534087c6f615c2",
       "version_major": 2,
       "version_minor": 0
      },
      "text/plain": [
       "KeplerGl(data={'Start Vertex': {'index': [0], 'columns': ['ID', 'GJ'], 'data': [['WCC_SW002719', '{\"type\": \"Po…"
      ]
     },
     "metadata": {},
     "output_type": "display_data"
    }
   ],
   "source": [
    "map = KeplerGl(height=600, width=800)\n",
    "map.add_data(start_vertex, 'Start Vertex')\n",
    "map.add_data(pdf_storm_comp2_neighbors_upstream_edges, 'Upstream')\n",
    "map.add_data(pdf_storm_comp2_neighbors_downstream_edges, 'Downstream')\n",
    "map"
   ]
  },
  {
   "cell_type": "code",
   "execution_count": 28,
   "metadata": {},
   "outputs": [
    {
     "data": {
      "text/html": [
       "<div>\n",
       "<style scoped>\n",
       "    .dataframe tbody tr th:only-of-type {\n",
       "        vertical-align: middle;\n",
       "    }\n",
       "\n",
       "    .dataframe tbody tr th {\n",
       "        vertical-align: top;\n",
       "    }\n",
       "\n",
       "    .dataframe thead th {\n",
       "        text-align: right;\n",
       "    }\n",
       "</style>\n",
       "<table border=\"1\" class=\"dataframe\">\n",
       "  <thead>\n",
       "    <tr style=\"text-align: right;\">\n",
       "      <th></th>\n",
       "      <th>ID</th>\n",
       "      <th>DISTANCE</th>\n",
       "    </tr>\n",
       "  </thead>\n",
       "  <tbody>\n",
       "    <tr>\n",
       "      <th>12</th>\n",
       "      <td>WCC_SW002719</td>\n",
       "      <td>0.00</td>\n",
       "    </tr>\n",
       "    <tr>\n",
       "      <th>14</th>\n",
       "      <td>WCC_SW002721</td>\n",
       "      <td>19.50</td>\n",
       "    </tr>\n",
       "    <tr>\n",
       "      <th>42</th>\n",
       "      <td>WCC_SW026945</td>\n",
       "      <td>32.93</td>\n",
       "    </tr>\n",
       "    <tr>\n",
       "      <th>52</th>\n",
       "      <td>WCC_SW026956</td>\n",
       "      <td>66.82</td>\n",
       "    </tr>\n",
       "    <tr>\n",
       "      <th>13</th>\n",
       "      <td>WCC_SW002720</td>\n",
       "      <td>67.55</td>\n",
       "    </tr>\n",
       "    <tr>\n",
       "      <th>...</th>\n",
       "      <td>...</td>\n",
       "      <td>...</td>\n",
       "    </tr>\n",
       "    <tr>\n",
       "      <th>76</th>\n",
       "      <td>WCC_SW029634</td>\n",
       "      <td>512.98</td>\n",
       "    </tr>\n",
       "    <tr>\n",
       "      <th>78</th>\n",
       "      <td>WCC_SW029636</td>\n",
       "      <td>523.88</td>\n",
       "    </tr>\n",
       "    <tr>\n",
       "      <th>79</th>\n",
       "      <td>WCC_SW029637</td>\n",
       "      <td>542.92</td>\n",
       "    </tr>\n",
       "    <tr>\n",
       "      <th>80</th>\n",
       "      <td>WCC_SW029638</td>\n",
       "      <td>560.92</td>\n",
       "    </tr>\n",
       "    <tr>\n",
       "      <th>81</th>\n",
       "      <td>WCC_SW029639</td>\n",
       "      <td>569.20</td>\n",
       "    </tr>\n",
       "  </tbody>\n",
       "</table>\n",
       "<p>92 rows × 2 columns</p>\n",
       "</div>"
      ],
      "text/plain": [
       "              ID  DISTANCE\n",
       "12  WCC_SW002719      0.00\n",
       "14  WCC_SW002721     19.50\n",
       "42  WCC_SW026945     32.93\n",
       "52  WCC_SW026956     66.82\n",
       "13  WCC_SW002720     67.55\n",
       "..           ...       ...\n",
       "76  WCC_SW029634    512.98\n",
       "78  WCC_SW029636    523.88\n",
       "79  WCC_SW029637    542.92\n",
       "80  WCC_SW029638    560.92\n",
       "81  WCC_SW029639    569.20\n",
       "\n",
       "[92 rows x 2 columns]"
      ]
     },
     "execution_count": 28,
     "metadata": {},
     "output_type": "execute_result"
    }
   ],
   "source": [
    "# The Shortest Path One to All, could give an indication about what to check first\n",
    "spoa = hga.ShortestPathsOneToAll(graph=g_storm_comp2).execute(source=start_vertex_id, direction='INCOMING', weight='LENGTH_M')\n",
    "\n",
    "spoa.vertices.sort_values('DISTANCE')"
   ]
  },
  {
   "cell_type": "code",
   "execution_count": null,
   "metadata": {},
   "outputs": [],
   "source": []
  }
 ],
 "metadata": {
  "kernelspec": {
   "display_name": "Python 3",
   "language": "python",
   "name": "python3"
  },
  "language_info": {
   "codemirror_mode": {
    "name": "ipython",
    "version": 3
   },
   "file_extension": ".py",
   "mimetype": "text/x-python",
   "name": "python",
   "nbconvert_exporter": "python",
   "pygments_lexer": "ipython3",
   "version": "3.8.10"
  }
 },
 "nbformat": 4,
 "nbformat_minor": 4
}
